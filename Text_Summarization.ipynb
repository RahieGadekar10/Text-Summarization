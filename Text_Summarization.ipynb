{
  "nbformat": 4,
  "nbformat_minor": 0,
  "metadata": {
    "colab": {
      "name": "Text-Summarization-with-Flask.ipynb",
      "provenance": [],
      "collapsed_sections": []
    },
    "kernelspec": {
      "name": "python3",
      "display_name": "Python 3"
    },
    "language_info": {
      "name": "python"
    },
    "accelerator": "GPU"
  },
  "cells": [
    {
      "cell_type": "code",
      "metadata": {
        "id": "PlNEptbAUWM1"
      },
      "source": [
        "#Install SImple Transformers \n",
        "\n",
        "!pip install simpletransformers"
      ],
      "execution_count": null,
      "outputs": []
    },
    {
      "cell_type": "code",
      "metadata": {
        "id": "8Cn0fKQGWEk_"
      },
      "source": [
        "#Importing libraries and loading data\n",
        "import logging\n",
        "from simpletransformers.t5 import T5Model, T5Args\n",
        "import pandas as pd\n",
        "from simpletransformers.seq2seq import Seq2SeqModel, Seq2SeqArgs\n",
        "import pandas as pd\n",
        "\n",
        "df = pd.read_csv(\"/content/drive/MyDrive/news_summary.csv\", encoding='latin-1')\n",
        "df = df[['text','ctext']]\n",
        "df = df[['ctext','text']].head(1000)\n",
        "df = df.rename(columns = {'ctext':'input_text' , 'text' : 'target_text'})\n",
        "df"
      ],
      "execution_count": null,
      "outputs": []
    },
    {
      "cell_type": "code",
      "metadata": {
        "id": "ipx8fKpjHjMZ"
      },
      "source": [
        "#Data Preprocessing for input text\n",
        "for i in range(1000):\n",
        "  df.input_text[i] = str(df.input_text[i])\n",
        "  df.input_text[i] = df.input_text[i].replace(\"?\",\"\") \n",
        "  df.input_text[i] = df.input_text[i].replace(\"/\",\"\") \n",
        "  df.input_text[i] = df.input_text[i].replace(\")\",\"\")\n",
        "  df.input_text[i] = df.input_text[i].replace(\"(\",\"\")\n",
        "  df.input_text[i] = df.input_text[i].replace(\"|\",\"\")\n",
        "  df.input_text[i] = df.input_text[i].replace(\",\",\"\")\n",
        "  df.input_text[i] = df.input_text[i].replace(\"'\",\"\")\n",
        "  df.input_text[i] = df.input_text[i].replace(\"\\t\",\"\")\n",
        "  df.input_text[i] = df.input_text[i].replace(\"\\r\",\"\") \n",
        "  df.input_text[i] = df.input_text[i].replace(\"\\n\",\"\")\n",
        "  df.input_text[i] = df.input_text[i].replace('\"',\"\")\n",
        "  df.input_text[i] = df.input_text[i].replace('@',\"\")\n",
        "  df.input_text[i] = df.input_text[i].replace('#',\"\")\n",
        "  df.input_text[i] = df.input_text[i].replace('&',\"\")\n",
        "  df.input_text[i] = df.input_text[i].replace('*',\"\")\n",
        "  df.input_text[i] = df.input_text[i].replace('!',\"\")\n",
        "  df.input_text[i] = df.input_text[i].replace('-',\"\")\n",
        "  df.input_text[i] = df.input_text[i].lower()"
      ],
      "execution_count": null,
      "outputs": []
    },
    {
      "cell_type": "code",
      "metadata": {
        "id": "I7JXIMqHQPhx"
      },
      "source": [
        "#Data Preprocessing for output text\n",
        "for i in range(1000):\n",
        "  df.target_text[i] = df.target_text[i].replace(\"?\",\"\") \n",
        "  df.target_text[i] = df.target_text[i].replace(\"/\",\"\") \n",
        "  df.target_text[i] = df.target_text[i].replace(\")\",\"\")\n",
        "  df.target_text[i] = df.target_text[i].replace(\"(\",\"\")\n",
        "  df.target_text[i] = df.target_text[i].replace(\"|\",\"\")\n",
        "  df.target_text[i] = df.target_text[i].replace(\",\",\"\")\n",
        "  df.target_text[i] = df.target_text[i].replace(\"'\",\"\")\n",
        "  df.target_text[i] = df.target_text[i].replace(\"\\t\",\"\")\n",
        "  df.target_text[i] = df.target_text[i].replace(\"\\r\",\"\") \n",
        "  df.target_text[i] = df.target_text[i].replace(\"\\n\",\"\")\n",
        "  df.target_text[i] = df.target_text[i].replace('\"',\"\")\n",
        "  df.target_text[i] = df.target_text[i].replace('@',\"\")\n",
        "  df.target_text[i] = df.target_text[i].replace('#',\"\")\n",
        "  df.target_text[i] = df.target_text[i].replace('&',\"\")\n",
        "  df.target_text[i] = df.target_text[i].replace('*',\"\")\n",
        "  df.target_text[i] = df.target_text[i].replace('!',\"\")\n",
        "  df.target_text[i] = df.target_text[i].replace('-',\"\")\n",
        "  df.target_text[i] = df.target_text[i].lower()"
      ],
      "execution_count": null,
      "outputs": []
    },
    {
      "cell_type": "code",
      "metadata": {
        "id": "VY6oJbHlQwjn"
      },
      "source": [
        "#T5 Model requires the task as the prefix\n",
        "df['prefix'] = 'summarization' \n",
        "df = df[['prefix' , 'input_text' , 'target_text']]\n",
        "df"
      ],
      "execution_count": null,
      "outputs": []
    },
    {
      "cell_type": "code",
      "metadata": {
        "id": "FgEHa4urC9Aj"
      },
      "source": [
        "#Dropping the Null values from the columns and splitting the data into train and test \n",
        "df = df.dropna()\n",
        "df\n",
        "from sklearn.model_selection import train_test_split\n",
        "train , test = train_test_split(df , test_size = 0.2)"
      ],
      "execution_count": null,
      "outputs": []
    },
    {
      "cell_type": "code",
      "metadata": {
        "id": "H7G38OrnZLGl"
      },
      "source": [
        "train.shape , test.shape"
      ],
      "execution_count": null,
      "outputs": []
    },
    {
      "cell_type": "code",
      "metadata": {
        "id": "8RLc4RG9UaVK"
      },
      "source": [
        "#Setting up the logger\n",
        "\n",
        "logging.basicConfig(level=logging.INFO)\n",
        "transformers_logger = logging.getLogger(\"transformers\")\n",
        "transformers_logger.setLevel(logging.WARNING)\n",
        "\n",
        "# Configure the model arguments\n",
        "model_args = T5Args()\n",
        "model_args.num_train_epochs = 50\n",
        "model_args.evaluate_generated_text = True\n",
        "model_args.evaluate_during_training = True\n",
        "model_args.evaluate_during_training_verbose = True\n",
        "model_args.overwrite_output_dir = True\n",
        "model_args.train_batch_size=12\n",
        "model_args.eval_batch_size = 8\n",
        "model_args.max_seq_length = 350\n",
        "model_args.learning_rate = 2e-5\n",
        "model_args.preprocess_inputs = True\n",
        "model_args.early_stopping = True\n",
        "model_args.max_length = 350\n",
        "model_args.repetition_penalty = 2.5\n",
        "\n",
        "#Defining the model\n",
        "model = T5Model(\n",
        "    \"t5\",\n",
        "    \"t5-small\",\n",
        "    args=model_args,\n",
        "    use_cuda = True\n",
        ")\n",
        "\n",
        "# Train the model\n",
        "model.train_model(train, eval_data=test, output_dir = \"/content/drive/MyDrive\")\n"
      ],
      "execution_count": null,
      "outputs": []
    },
    {
      "cell_type": "code",
      "metadata": {
        "id": "WZi-9PBkUp9S"
      },
      "source": [
        "#Evaluating the model on test data\n",
        "result = model.eval_model(test)"
      ],
      "execution_count": null,
      "outputs": []
    },
    {
      "cell_type": "code",
      "metadata": {
        "id": "ISQcxtBVkIAx"
      },
      "source": [
        "#Reloading the model to test on custom data \n",
        "\n",
        "model_reloaded = T5Model(\n",
        "    \"t5\",\n",
        "    \"outputs/best_model\",\n",
        "    args=model_args\n",
        ")"
      ],
      "execution_count": null,
      "outputs": []
    },
    {
      "cell_type": "code",
      "metadata": {
        "id": "i3fYMdW8cXiB"
      },
      "source": [
        "print(\n",
        "    model_reloaded.predict(\n",
        "        [\n",
        "          \"We humans always need an escape from the reality once in a while. No better therapy than Maldives is truly a paradise on earth! And if you’re wishing to travel somewhere from india during this COVID situations and restrictions then this is the best option in present. It is open for all the Indians and all the safety measures are well taken care of. There are some points to be noted before plan a trip for Maldives. it’s always better to choose the all inclusive package. Choose a resort which is giving you good inclusions and facilities such as food, water activities, spa, privacy for a honeymoon couple, complementary RTPCR test.You need to have a RTPCR test done before 72 hours of your flight date and get a mandatory negative report! Have a travel insurance and make sure you’ve filled all the documents and have a xerox copies of it too. Reach the airport prior 2 hours of your flight timings for the safer side because check in and immigration might take some time. make sure you choose the earliest flight available of the day as your first day won’t be wasted because after arriving in Maldives airport you’ll have to wait for your boat or sea plane for your resort and almost one hour goes here. Sea planes are available only till 4 pm so if you have to catch a sea plane you need to land on Maldives airport  by 2 pm max! \"\n",
        "        ]\n",
        "                )\n",
        ")"
      ],
      "execution_count": null,
      "outputs": []
    },
    {
      "cell_type": "code",
      "metadata": {
        "id": "A7uoq1brWeGf"
      },
      "source": [
        "#Generating the result using pipeline\n",
        "\n",
        "from transformers import pipeline\n",
        "from transformers import AutoTokenizer, T5ForConditionalGeneration, T5Tokenizer\n",
        "import torch \n",
        "import torch.nn.functional as F\n",
        "\n",
        "model_name = T5ForConditionalGeneration.from_pretrained(\"outputs/best_model\")\n",
        "tokenizer = AutoTokenizer.from_pretrained(\"outputs/best_model\")\n",
        "\n",
        "generator = pipeline('summarization', model=model_name, tokenizer= tokenizer)\n",
        "print(\"generator done\")\n",
        "text = \"We humans always need an escape from the reality once in a while. No better therapy than Maldives is truly a paradise on earth! And if you’re wishing to travel somewhere from india during this COVID situations and restrictions then this is the best option in present. It is open for all the Indians and all the safety measures are well taken care of. There are some points to be noted before plan a trip for Maldives. it’s always better to choose the all inclusive package. Choose a resort which is giving you good inclusions and facilities such as food, water activities, spa, privacy for a honeymoon couple, complementary RTPCR test.You need to have a RTPCR test done before 72 hours of your flight date and get a mandatory negative report! Have a travel insurance and make sure you’ve filled all the documents and have a xerox copies of it too. Reach the airport prior 2 hours of your flight timings for the safer side because check in and immigration might take some time. make sure you choose the earliest flight available of the day as your first day won’t be wasted because after arriving in Maldives airport you’ll have to wait for your boat or sea plane for your resort and almost one hour goes here. Sea planes are available only till 4 pm so if you have to catch a sea plane you need to land on Maldives airport  by 2 pm max! \"\n",
        "results = generator(text, max_length =300)\n",
        "result = results[0]['summary_text']\n",
        "print(result)"
      ],
      "execution_count": null,
      "outputs": []
    }
  ]
}